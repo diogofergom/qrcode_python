{
 "cells": [
  {
   "cell_type": "code",
   "execution_count": 8,
   "metadata": {},
   "outputs": [
    {
     "name": "stdout",
     "output_type": "stream",
     "text": [
      "Requirement already satisfied: pyqrcode in c:\\programdata\\anaconda3\\lib\\site-packages (1.2.1)\n"
     ]
    }
   ],
   "source": [
    "!pip install pyqrcode"
   ]
  },
  {
   "cell_type": "code",
   "execution_count": 3,
   "metadata": {},
   "outputs": [
    {
     "name": "stdout",
     "output_type": "stream",
     "text": [
      "Collecting pyshorteners\n",
      "  Downloading pyshorteners-1.0.1.tar.gz (10.0 kB)\n",
      "Requirement already satisfied: requests in c:\\programdata\\anaconda3\\lib\\site-packages (from pyshorteners) (2.25.1)\n",
      "Requirement already satisfied: idna<3,>=2.5 in c:\\programdata\\anaconda3\\lib\\site-packages (from requests->pyshorteners) (2.10)\n",
      "Requirement already satisfied: urllib3<1.27,>=1.21.1 in c:\\programdata\\anaconda3\\lib\\site-packages (from requests->pyshorteners) (1.26.4)\n",
      "Requirement already satisfied: chardet<5,>=3.0.2 in c:\\programdata\\anaconda3\\lib\\site-packages (from requests->pyshorteners) (4.0.0)\n",
      "Requirement already satisfied: certifi>=2017.4.17 in c:\\programdata\\anaconda3\\lib\\site-packages (from requests->pyshorteners) (2020.12.5)\n",
      "Building wheels for collected packages: pyshorteners\n",
      "  Building wheel for pyshorteners (setup.py): started\n",
      "  Building wheel for pyshorteners (setup.py): finished with status 'done'\n",
      "  Created wheel for pyshorteners: filename=pyshorteners-1.0.1-py3-none-any.whl size=17499 sha256=a8d76c9b3b1cabba1c35633ebd5695491b870fae144f6b41dbe9dbc40e4db915\n",
      "  Stored in directory: c:\\users\\diogo f\\appdata\\local\\pip\\cache\\wheels\\0f\\6e\\88\\f0c854fa281b13d4997e9068dd69201e51c4b051c52c30b48d\n",
      "Successfully built pyshorteners\n",
      "Installing collected packages: pyshorteners\n",
      "Successfully installed pyshorteners-1.0.1\n"
     ]
    }
   ],
   "source": [
    "!pip install pyshorteners"
   ]
  },
  {
   "cell_type": "code",
   "execution_count": 9,
   "metadata": {},
   "outputs": [
    {
     "name": "stdout",
     "output_type": "stream",
     "text": [
      "Collecting pypng\n",
      "  Downloading pypng-0.0.21-py3-none-any.whl (48 kB)\n",
      "Installing collected packages: pypng\n",
      "Successfully installed pypng-0.0.21\n"
     ]
    }
   ],
   "source": [
    "!pip install pypng"
   ]
  },
  {
   "cell_type": "code",
   "execution_count": 4,
   "metadata": {},
   "outputs": [],
   "source": [
    "import pyqrcode as pqr\n",
    "import pandas as pd\n",
    "import numpy as np\n",
    "import png\n",
    "import io\n",
    "import pyshorteners\n",
    "\n",
    "\n",
    "\n"
   ]
  },
  {
   "cell_type": "code",
   "execution_count": 8,
   "metadata": {},
   "outputs": [],
   "source": [
    "s = pyshorteners.Shortener()\n",
    "url = s.tinyurl.short('https://www.linkedin.com/in/diogo-fernandes-gomes-358156162/')"
   ]
  },
  {
   "cell_type": "code",
   "execution_count": 9,
   "metadata": {},
   "outputs": [
    {
     "name": "stdout",
     "output_type": "stream",
     "text": [
      "https://tinyurl.com/y3zsz8on\n"
     ]
    }
   ],
   "source": [
    "print(url)"
   ]
  },
  {
   "cell_type": "code",
   "execution_count": 12,
   "metadata": {},
   "outputs": [
    {
     "name": "stdout",
     "output_type": "stream",
     "text": [
      "[137, 80, 78, 71, 13, 10, 26, 10, 0, 0, 0, 13, 73, 72, 68, 82, 0, 0, 0, 37, 0, 0, 0, 37, 1, 0, 0, 0, 0, 237, 229, 29, 174, 0, 0, 0, 181, 73, 68, 65, 84, 120, 156, 99, 248, 15, 4, 63, 24, 48, 201, 15, 130, 10, 7, 42, 24, 190, 95, 239, 140, 175, 96, 248, 18, 241, 42, 16, 72, 134, 239, 189, 8, 36, 195, 42, 47, 130, 196, 77, 128, 226, 31, 68, 67, 29, 42, 24, 254, 255, 228, 168, 255, 193, 240, 239, 246, 139, 71, 64, 145, 218, 217, 242, 21, 12, 255, 166, 197, 156, 248, 193, 240, 171, 246, 127, 203, 15, 134, 239, 209, 198, 254, 63, 24, 190, 125, 214, 89, 5, 84, 227, 28, 61, 175, 130, 225, 87, 197, 29, 126, 160, 154, 171, 139, 236, 42, 24, 254, 254, 219, 223, 5, 52, 115, 22, 187, 70, 5, 195, 31, 253, 182, 95, 21, 12, 223, 166, 74, 179, 2, 221, 240, 213, 176, 12, 104, 154, 220, 203, 64, 160, 9, 119, 245, 75, 127, 0, 221, 96, 201, 4, 84, 25, 60, 67, 16, 72, 70, 202, 21, 2, 221, 112, 235, 108, 30, 208, 157, 114, 39, 141, 176, 185, 31, 76, 2, 0, 175, 248, 127, 177, 3, 98, 9, 77, 0, 0, 0, 0, 73, 69, 78, 68, 174, 66, 96, 130]\n"
     ]
    }
   ],
   "source": [
    "url = pqr.create('https://t.me/diogofergom')\n",
    "with open('telegram.png','w') as fstream:\n",
    "    url.png('telegram.png', scale=5)\n",
    "url.png('telegram.png',scale=5)\n",
    "buffer = io.BytesIO()\n",
    "url.png(buffer)\n",
    "print(list(buffer.getvalue()))"
   ]
  },
  {
   "cell_type": "code",
   "execution_count": null,
   "metadata": {},
   "outputs": [],
   "source": []
  }
 ],
 "metadata": {
  "interpreter": {
   "hash": "b3ba2566441a7c06988d0923437866b63cedc61552a5af99d1f4fb67d367b25f"
  },
  "kernelspec": {
   "display_name": "Python 3.8.8 64-bit ('base': conda)",
   "language": "python",
   "name": "python3"
  },
  "language_info": {
   "codemirror_mode": {
    "name": "ipython",
    "version": 3
   },
   "file_extension": ".py",
   "mimetype": "text/x-python",
   "name": "python",
   "nbconvert_exporter": "python",
   "pygments_lexer": "ipython3",
   "version": "3.8.8"
  },
  "orig_nbformat": 4
 },
 "nbformat": 4,
 "nbformat_minor": 2
}
