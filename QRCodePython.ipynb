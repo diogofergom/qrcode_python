{
 "cells": [
  {
   "cell_type": "code",
   "execution_count": 8,
   "metadata": {},
   "outputs": [
    {
     "name": "stdout",
     "output_type": "stream",
     "text": [
      "Requirement already satisfied: pyqrcode in c:\\programdata\\anaconda3\\lib\\site-packages (1.2.1)\n"
     ]
    }
   ],
   "source": [
    "!pip install pyqrcode"
   ]
  },
  {
   "cell_type": "code",
   "execution_count": 9,
   "metadata": {},
   "outputs": [
    {
     "name": "stdout",
     "output_type": "stream",
     "text": [
      "Collecting pypng\n",
      "  Downloading pypng-0.0.21-py3-none-any.whl (48 kB)\n",
      "Installing collected packages: pypng\n",
      "Successfully installed pypng-0.0.21\n"
     ]
    }
   ],
   "source": [
    "!pip install pypng"
   ]
  },
  {
   "cell_type": "code",
   "execution_count": 13,
   "metadata": {},
   "outputs": [],
   "source": [
    "import pyqrcode as pqr\n",
    "import pandas as pd\n",
    "import png\n",
    "import io\n",
    "\n",
    "\n"
   ]
  },
  {
   "cell_type": "code",
   "execution_count": 12,
   "metadata": {},
   "outputs": [
    {
     "name": "stdout",
     "output_type": "stream",
     "text": [
      "[137, 80, 78, 71, 13, 10, 26, 10, 0, 0, 0, 13, 73, 72, 68, 82, 0, 0, 0, 53, 0, 0, 0, 53, 1, 0, 0, 0, 0, 201, 157, 158, 221, 0, 0, 1, 105, 73, 68, 65, 84, 120, 156, 99, 248, 15, 6, 63, 24, 112, 209, 31, 36, 183, 47, 61, 238, 80, 193, 240, 253, 158, 207, 202, 182, 251, 21, 12, 95, 98, 26, 86, 200, 93, 4, 210, 17, 151, 103, 205, 10, 4, 210, 129, 255, 25, 22, 0, 233, 239, 55, 68, 139, 188, 129, 242, 31, 68, 67, 67, 67, 129, 234, 255, 127, 204, 42, 221, 9, 212, 255, 231, 104, 56, 187, 183, 56, 208, 188, 85, 97, 90, 76, 149, 21, 12, 63, 229, 31, 203, 136, 234, 85, 48, 252, 90, 177, 121, 237, 164, 245, 63, 24, 126, 77, 255, 86, 211, 249, 251, 7, 195, 183, 55, 140, 198, 234, 157, 63, 24, 62, 118, 252, 46, 159, 231, 254, 131, 225, 239, 115, 134, 29, 91, 20, 128, 250, 142, 29, 154, 214, 192, 11, 228, 27, 159, 101, 17, 249, 2, 52, 247, 66, 245, 78, 135, 136, 31, 12, 95, 95, 197, 93, 93, 81, 14, 180, 151, 137, 131, 105, 55, 107, 5, 195, 199, 66, 247, 210, 99, 197, 21, 12, 191, 195, 204, 194, 83, 2, 128, 238, 40, 101, 47, 89, 91, 246, 131, 225, 51, 203, 15, 22, 69, 54, 160, 189, 69, 186, 151, 246, 247, 0, 249, 231, 59, 152, 167, 229, 252, 96, 248, 247, 253, 93, 85, 11, 208, 157, 191, 121, 220, 205, 18, 28, 129, 242, 170, 23, 172, 111, 30, 169, 96, 248, 27, 242, 227, 252, 91, 144, 188, 149, 238, 106, 203, 108, 160, 250, 9, 185, 165, 243, 51, 43, 24, 126, 148, 133, 254, 10, 63, 9, 180, 223, 107, 185, 141, 235, 41, 32, 191, 50, 245, 147, 83, 112, 5, 195, 183, 104, 35, 214, 245, 76, 64, 241, 111, 11, 203, 86, 151, 2, 195, 75, 220, 45, 236, 92, 232, 15, 96, 120, 92, 47, 97, 41, 4, 133, 87, 55, 155, 51, 195, 15, 134, 47, 225, 37, 219, 11, 45, 129, 252, 144, 130, 253, 29, 210, 64, 249, 91, 97, 97, 31, 64, 225, 37, 179, 95, 164, 235, 40, 238, 240, 135, 210, 0, 253, 62, 234, 143, 53, 189, 39, 78, 0, 0, 0, 0, 73, 69, 78, 68, 174, 66, 96, 130]\n"
     ]
    }
   ],
   "source": [
    "url = pqr.create('https://www.linkedin.com/in/diogo-fernandes-gomes-358156162/')\n",
    "with open('code.png','w') as fstream:\n",
    "    url.png('code.png', scale=5)\n",
    "url.png('code.png',scale=5)\n",
    "buffer = io.BytesIO()\n",
    "url.png(buffer)\n",
    "print(list(buffer.getvalue()))"
   ]
  },
  {
   "cell_type": "code",
   "execution_count": null,
   "metadata": {},
   "outputs": [],
   "source": []
  }
 ],
 "metadata": {
  "interpreter": {
   "hash": "b3ba2566441a7c06988d0923437866b63cedc61552a5af99d1f4fb67d367b25f"
  },
  "kernelspec": {
   "display_name": "Python 3.8.8 64-bit ('base': conda)",
   "language": "python",
   "name": "python3"
  },
  "language_info": {
   "codemirror_mode": {
    "name": "ipython",
    "version": 3
   },
   "file_extension": ".py",
   "mimetype": "text/x-python",
   "name": "python",
   "nbconvert_exporter": "python",
   "pygments_lexer": "ipython3",
   "version": "3.8.8"
  },
  "orig_nbformat": 4
 },
 "nbformat": 4,
 "nbformat_minor": 2
}
